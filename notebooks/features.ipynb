{
 "cells": [
  {
   "cell_type": "code",
   "execution_count": 2,
   "metadata": {},
   "outputs": [],
   "source": [
    "import pandas as pd\n",
    "from sklearn.preprocessing import StandardScaler\n",
    "\n",
    "# Load the cleaned dataset\n",
    "file_path = '/Users/parsabahrami/Customer Churn Model/data/cleaned_data.csv'\n",
    "cleaned_data = pd.read_csv(file_path)\n",
    "\n",
    "# One-Hot Encoding for categorical variables\n",
    "data_encoded = pd.get_dummies(cleaned_data, columns=['Geography', 'Gender'], drop_first=True)\n",
    "\n",
    "# Create interaction features\n",
    "data_encoded['Age_Tenure'] = data_encoded['Age'] * data_encoded['Tenure']\n",
    "data_encoded['Balance_Products'] = data_encoded['Balance'] * data_encoded['NumOfProducts']\n",
    "\n",
    "# Scaling numerical features\n",
    "scaler = StandardScaler()\n",
    "numerical_cols = ['CreditScore', 'Age', 'Balance', 'EstimatedSalary', 'Age_Tenure', 'Balance_Products']\n",
    "data_encoded[numerical_cols] = scaler.fit_transform(data_encoded[numerical_cols])\n",
    "\n",
    "# Save the feature engineered dataset\n",
    "data_encoded.to_csv('/Users/parsabahrami/Customer Churn Model/data/featured_data.csv', index=False)\n"
   ]
  }
 ],
 "metadata": {
  "kernelspec": {
   "display_name": "base",
   "language": "python",
   "name": "python3"
  },
  "language_info": {
   "codemirror_mode": {
    "name": "ipython",
    "version": 3
   },
   "file_extension": ".py",
   "mimetype": "text/x-python",
   "name": "python",
   "nbconvert_exporter": "python",
   "pygments_lexer": "ipython3",
   "version": "3.11.8"
  }
 },
 "nbformat": 4,
 "nbformat_minor": 2
}
